{
  "nbformat": 4,
  "nbformat_minor": 0,
  "metadata": {
    "colab": {
      "name": " Mobile Phone Price Classification.ipynb",
      "version": "0.3.2",
      "provenance": [],
      "toc_visible": true
    },
    "kernelspec": {
      "display_name": "Python 2",
      "language": "python",
      "name": "python2"
    }
  },
  "cells": [
    {
      "metadata": {
        "id": "TTFSX49YGe5l",
        "colab_type": "text"
      },
      "cell_type": "markdown",
      "source": [
        "## Mobile Phone Price Classification"
      ]
    },
    {
      "metadata": {
        "id": "c3dlq_wQGe5s",
        "colab_type": "code",
        "colab": {}
      },
      "cell_type": "code",
      "source": [
        "import pandas as pd"
      ],
      "execution_count": 0,
      "outputs": []
    },
    {
      "metadata": {
        "id": "5ZHErM7-Ge5-",
        "colab_type": "code",
        "colab": {}
      },
      "cell_type": "code",
      "source": [
        "dt=pd.read_csv('train.csv')"
      ],
      "execution_count": 0,
      "outputs": []
    },
    {
      "metadata": {
        "id": "_3MHpwcmGe6N",
        "colab_type": "code",
        "colab": {
          "base_uri": "https://localhost:8080/",
          "height": 102
        },
        "outputId": "af71b705-4324-455d-c91c-9695614ed5e6"
      },
      "cell_type": "code",
      "source": [
        "dt.price_range.value_counts()"
      ],
      "execution_count": 3,
      "outputs": [
        {
          "output_type": "execute_result",
          "data": {
            "text/plain": [
              "3    500\n",
              "2    500\n",
              "1    500\n",
              "0    500\n",
              "Name: price_range, dtype: int64"
            ]
          },
          "metadata": {
            "tags": []
          },
          "execution_count": 3
        }
      ]
    },
    {
      "metadata": {
        "id": "0iLa_pIVGe6g",
        "colab_type": "code",
        "colab": {
          "base_uri": "https://localhost:8080/",
          "height": 253
        },
        "outputId": "b8b1a659-5a0c-4b39-8d26-88ceff7e960a"
      },
      "cell_type": "code",
      "source": [
        "dt.head()"
      ],
      "execution_count": 4,
      "outputs": [
        {
          "output_type": "execute_result",
          "data": {
            "text/html": [
              "<div>\n",
              "<style scoped>\n",
              "    .dataframe tbody tr th:only-of-type {\n",
              "        vertical-align: middle;\n",
              "    }\n",
              "\n",
              "    .dataframe tbody tr th {\n",
              "        vertical-align: top;\n",
              "    }\n",
              "\n",
              "    .dataframe thead th {\n",
              "        text-align: right;\n",
              "    }\n",
              "</style>\n",
              "<table border=\"1\" class=\"dataframe\">\n",
              "  <thead>\n",
              "    <tr style=\"text-align: right;\">\n",
              "      <th></th>\n",
              "      <th>battery_power</th>\n",
              "      <th>blue</th>\n",
              "      <th>clock_speed</th>\n",
              "      <th>dual_sim</th>\n",
              "      <th>fc</th>\n",
              "      <th>four_g</th>\n",
              "      <th>int_memory</th>\n",
              "      <th>m_dep</th>\n",
              "      <th>mobile_wt</th>\n",
              "      <th>n_cores</th>\n",
              "      <th>...</th>\n",
              "      <th>px_height</th>\n",
              "      <th>px_width</th>\n",
              "      <th>ram</th>\n",
              "      <th>sc_h</th>\n",
              "      <th>sc_w</th>\n",
              "      <th>talk_time</th>\n",
              "      <th>three_g</th>\n",
              "      <th>touch_screen</th>\n",
              "      <th>wifi</th>\n",
              "      <th>price_range</th>\n",
              "    </tr>\n",
              "  </thead>\n",
              "  <tbody>\n",
              "    <tr>\n",
              "      <th>0</th>\n",
              "      <td>842</td>\n",
              "      <td>0</td>\n",
              "      <td>2.2</td>\n",
              "      <td>0</td>\n",
              "      <td>1</td>\n",
              "      <td>0</td>\n",
              "      <td>7</td>\n",
              "      <td>0.6</td>\n",
              "      <td>188</td>\n",
              "      <td>2</td>\n",
              "      <td>...</td>\n",
              "      <td>20</td>\n",
              "      <td>756</td>\n",
              "      <td>2549</td>\n",
              "      <td>9</td>\n",
              "      <td>7</td>\n",
              "      <td>19</td>\n",
              "      <td>0</td>\n",
              "      <td>0</td>\n",
              "      <td>1</td>\n",
              "      <td>1</td>\n",
              "    </tr>\n",
              "    <tr>\n",
              "      <th>1</th>\n",
              "      <td>1021</td>\n",
              "      <td>1</td>\n",
              "      <td>0.5</td>\n",
              "      <td>1</td>\n",
              "      <td>0</td>\n",
              "      <td>1</td>\n",
              "      <td>53</td>\n",
              "      <td>0.7</td>\n",
              "      <td>136</td>\n",
              "      <td>3</td>\n",
              "      <td>...</td>\n",
              "      <td>905</td>\n",
              "      <td>1988</td>\n",
              "      <td>2631</td>\n",
              "      <td>17</td>\n",
              "      <td>3</td>\n",
              "      <td>7</td>\n",
              "      <td>1</td>\n",
              "      <td>1</td>\n",
              "      <td>0</td>\n",
              "      <td>2</td>\n",
              "    </tr>\n",
              "    <tr>\n",
              "      <th>2</th>\n",
              "      <td>563</td>\n",
              "      <td>1</td>\n",
              "      <td>0.5</td>\n",
              "      <td>1</td>\n",
              "      <td>2</td>\n",
              "      <td>1</td>\n",
              "      <td>41</td>\n",
              "      <td>0.9</td>\n",
              "      <td>145</td>\n",
              "      <td>5</td>\n",
              "      <td>...</td>\n",
              "      <td>1263</td>\n",
              "      <td>1716</td>\n",
              "      <td>2603</td>\n",
              "      <td>11</td>\n",
              "      <td>2</td>\n",
              "      <td>9</td>\n",
              "      <td>1</td>\n",
              "      <td>1</td>\n",
              "      <td>0</td>\n",
              "      <td>2</td>\n",
              "    </tr>\n",
              "    <tr>\n",
              "      <th>3</th>\n",
              "      <td>615</td>\n",
              "      <td>1</td>\n",
              "      <td>2.5</td>\n",
              "      <td>0</td>\n",
              "      <td>0</td>\n",
              "      <td>0</td>\n",
              "      <td>10</td>\n",
              "      <td>0.8</td>\n",
              "      <td>131</td>\n",
              "      <td>6</td>\n",
              "      <td>...</td>\n",
              "      <td>1216</td>\n",
              "      <td>1786</td>\n",
              "      <td>2769</td>\n",
              "      <td>16</td>\n",
              "      <td>8</td>\n",
              "      <td>11</td>\n",
              "      <td>1</td>\n",
              "      <td>0</td>\n",
              "      <td>0</td>\n",
              "      <td>2</td>\n",
              "    </tr>\n",
              "    <tr>\n",
              "      <th>4</th>\n",
              "      <td>1821</td>\n",
              "      <td>1</td>\n",
              "      <td>1.2</td>\n",
              "      <td>0</td>\n",
              "      <td>13</td>\n",
              "      <td>1</td>\n",
              "      <td>44</td>\n",
              "      <td>0.6</td>\n",
              "      <td>141</td>\n",
              "      <td>2</td>\n",
              "      <td>...</td>\n",
              "      <td>1208</td>\n",
              "      <td>1212</td>\n",
              "      <td>1411</td>\n",
              "      <td>8</td>\n",
              "      <td>2</td>\n",
              "      <td>15</td>\n",
              "      <td>1</td>\n",
              "      <td>1</td>\n",
              "      <td>0</td>\n",
              "      <td>1</td>\n",
              "    </tr>\n",
              "  </tbody>\n",
              "</table>\n",
              "<p>5 rows × 21 columns</p>\n",
              "</div>"
            ],
            "text/plain": [
              "   battery_power  blue  clock_speed  dual_sim  fc  four_g  int_memory  m_dep  \\\n",
              "0            842     0          2.2         0   1       0           7    0.6   \n",
              "1           1021     1          0.5         1   0       1          53    0.7   \n",
              "2            563     1          0.5         1   2       1          41    0.9   \n",
              "3            615     1          2.5         0   0       0          10    0.8   \n",
              "4           1821     1          1.2         0  13       1          44    0.6   \n",
              "\n",
              "   mobile_wt  n_cores     ...       px_height  px_width   ram  sc_h  sc_w  \\\n",
              "0        188        2     ...              20       756  2549     9     7   \n",
              "1        136        3     ...             905      1988  2631    17     3   \n",
              "2        145        5     ...            1263      1716  2603    11     2   \n",
              "3        131        6     ...            1216      1786  2769    16     8   \n",
              "4        141        2     ...            1208      1212  1411     8     2   \n",
              "\n",
              "   talk_time  three_g  touch_screen  wifi  price_range  \n",
              "0         19        0             0     1            1  \n",
              "1          7        1             1     0            2  \n",
              "2          9        1             1     0            2  \n",
              "3         11        1             0     0            2  \n",
              "4         15        1             1     0            1  \n",
              "\n",
              "[5 rows x 21 columns]"
            ]
          },
          "metadata": {
            "tags": []
          },
          "execution_count": 4
        }
      ]
    },
    {
      "metadata": {
        "id": "oj5KyBpuNk1d",
        "colab_type": "code",
        "colab": {}
      },
      "cell_type": "code",
      "source": [
        "X=dt[:]\n",
        "y=X.pop('price_range')"
      ],
      "execution_count": 0,
      "outputs": []
    },
    {
      "metadata": {
        "id": "yo1f7AJ_Ge6t",
        "colab_type": "code",
        "colab": {}
      },
      "cell_type": "code",
      "source": [
        "from sklearn.model_selection import train_test_split\n",
        "X_train, X_test, y_train, y_test = train_test_split(X, y, test_size=0.2)"
      ],
      "execution_count": 0,
      "outputs": []
    },
    {
      "metadata": {
        "id": "qUaTvvaVGe61",
        "colab_type": "code",
        "colab": {
          "base_uri": "https://localhost:8080/",
          "height": 51
        },
        "outputId": "25934e32-dd90-4ab7-afbb-3225025b1f2e"
      },
      "cell_type": "code",
      "source": [
        "print X_train.shape, y_train.shape\n",
        "print X_test.shape, y_test.shape"
      ],
      "execution_count": 16,
      "outputs": [
        {
          "output_type": "stream",
          "text": [
            "(1600, 20) (1600,)\n",
            "(400, 20) (400,)\n"
          ],
          "name": "stdout"
        }
      ]
    },
    {
      "metadata": {
        "id": "8GFb_LGTGe7A",
        "colab_type": "code",
        "colab": {
          "base_uri": "https://localhost:8080/",
          "height": 867
        },
        "outputId": "4bf0cf4a-f097-4b49-e0b3-25cd887e679b"
      },
      "cell_type": "code",
      "source": [
        "from xgboost import XGBClassifier\n",
        "from sklearn.metrics import accuracy_score\n",
        "x=0.01\n",
        "for i in range(50):\n",
        "    model = XGBClassifier(learning_rate=x)\n",
        "    x=x+0.01\n",
        "    model.fit(X_train, y_train)\n",
        "    y_pred = model.predict(X_test)\n",
        "    accuracy = accuracy_score(y_test,y_pred)\n",
        "    print(x,\"Accuracy: %.2f%%\" % (accuracy * 100.0))"
      ],
      "execution_count": 21,
      "outputs": [
        {
          "output_type": "stream",
          "text": [
            "(0.02, 'Accuracy: 82.50%')\n",
            "(0.03, 'Accuracy: 84.25%')\n",
            "(0.04, 'Accuracy: 85.00%')\n",
            "(0.05, 'Accuracy: 87.00%')\n",
            "(0.060000000000000005, 'Accuracy: 88.25%')\n",
            "(0.07, 'Accuracy: 89.00%')\n",
            "(0.08, 'Accuracy: 90.50%')\n",
            "(0.09, 'Accuracy: 90.50%')\n",
            "(0.09999999999999999, 'Accuracy: 89.75%')\n",
            "(0.10999999999999999, 'Accuracy: 91.75%')\n",
            "(0.11999999999999998, 'Accuracy: 92.00%')\n",
            "(0.12999999999999998, 'Accuracy: 91.75%')\n",
            "(0.13999999999999999, 'Accuracy: 92.00%')\n",
            "(0.15, 'Accuracy: 92.00%')\n",
            "(0.16, 'Accuracy: 92.00%')\n",
            "(0.17, 'Accuracy: 93.25%')\n",
            "(0.18000000000000002, 'Accuracy: 92.25%')\n",
            "(0.19000000000000003, 'Accuracy: 93.00%')\n",
            "(0.20000000000000004, 'Accuracy: 93.00%')\n",
            "(0.21000000000000005, 'Accuracy: 91.75%')\n",
            "(0.22000000000000006, 'Accuracy: 93.25%')\n",
            "(0.23000000000000007, 'Accuracy: 92.75%')\n",
            "(0.24000000000000007, 'Accuracy: 93.25%')\n",
            "(0.25000000000000006, 'Accuracy: 92.75%')\n",
            "(0.26000000000000006, 'Accuracy: 92.75%')\n",
            "(0.2700000000000001, 'Accuracy: 93.50%')\n",
            "(0.2800000000000001, 'Accuracy: 92.50%')\n",
            "(0.2900000000000001, 'Accuracy: 92.25%')\n",
            "(0.3000000000000001, 'Accuracy: 93.00%')\n",
            "(0.3100000000000001, 'Accuracy: 93.25%')\n",
            "(0.3200000000000001, 'Accuracy: 93.00%')\n",
            "(0.3300000000000001, 'Accuracy: 92.75%')\n",
            "(0.34000000000000014, 'Accuracy: 92.25%')\n",
            "(0.35000000000000014, 'Accuracy: 93.50%')\n",
            "(0.36000000000000015, 'Accuracy: 93.25%')\n",
            "(0.37000000000000016, 'Accuracy: 92.75%')\n",
            "(0.38000000000000017, 'Accuracy: 92.25%')\n",
            "(0.3900000000000002, 'Accuracy: 93.00%')\n",
            "(0.4000000000000002, 'Accuracy: 93.00%')\n",
            "(0.4100000000000002, 'Accuracy: 92.00%')\n",
            "(0.4200000000000002, 'Accuracy: 92.50%')\n",
            "(0.4300000000000002, 'Accuracy: 92.25%')\n",
            "(0.4400000000000002, 'Accuracy: 92.75%')\n",
            "(0.45000000000000023, 'Accuracy: 93.25%')\n",
            "(0.46000000000000024, 'Accuracy: 93.25%')\n",
            "(0.47000000000000025, 'Accuracy: 93.25%')\n",
            "(0.48000000000000026, 'Accuracy: 92.50%')\n",
            "(0.49000000000000027, 'Accuracy: 93.75%')\n",
            "(0.5000000000000002, 'Accuracy: 92.75%')\n",
            "(0.5100000000000002, 'Accuracy: 94.25%')\n"
          ],
          "name": "stdout"
        }
      ]
    },
    {
      "metadata": {
        "id": "gzf_9pjoGe7J",
        "colab_type": "code",
        "colab": {
          "base_uri": "https://localhost:8080/",
          "height": 34
        },
        "outputId": "468e5646-f80f-455a-c288-326f71bd68c6"
      },
      "cell_type": "code",
      "source": [
        "from xgboost import XGBClassifier\n",
        "from sklearn.metrics import accuracy_score\n",
        "model = XGBClassifier(learning_rate=0.5000000000000002)\n",
        "model.fit(X_train, y_train)\n",
        "y_pred = model.predict(X_test)\n",
        "accuracy = accuracy_score(y_test,y_pred)\n",
        "print(\"Accuracy: %.2f%%\" % (accuracy * 100.0))"
      ],
      "execution_count": 22,
      "outputs": [
        {
          "output_type": "stream",
          "text": [
            "Accuracy: 94.25%\n"
          ],
          "name": "stdout"
        }
      ]
    },
    {
      "metadata": {
        "id": "v4dFj5fGGe7Z",
        "colab_type": "code",
        "colab": {}
      },
      "cell_type": "code",
      "source": [
        ""
      ],
      "execution_count": 0,
      "outputs": []
    }
  ]
}